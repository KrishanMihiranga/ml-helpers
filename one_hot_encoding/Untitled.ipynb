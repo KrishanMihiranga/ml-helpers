{
 "cells": [
  {
   "cell_type": "code",
   "execution_count": 6,
   "id": "aa344a08-9ac7-4131-ac6b-37c1ea13a1c4",
   "metadata": {},
   "outputs": [],
   "source": [
    "import pandas as pd\n",
    "from sklearn.preprocessing import LabelEncoder"
   ]
  },
  {
   "cell_type": "code",
   "execution_count": 7,
   "id": "8fa3ed2e-d0b9-4a5e-b08f-9cc5bd440d9a",
   "metadata": {},
   "outputs": [],
   "source": [
    "data = pd.read_csv('artifacts/students.csv')"
   ]
  },
  {
   "cell_type": "code",
   "execution_count": 8,
   "id": "860c6f9d-b319-482b-ab09-05264cd063c1",
   "metadata": {},
   "outputs": [
    {
     "data": {
      "text/plain": [
       "0       Pass\n",
       "1       Fail\n",
       "2       Pass\n",
       "3       Pass\n",
       "4     Absent\n",
       "5       Fail\n",
       "6       Fail\n",
       "7       Pass\n",
       "8       Pass\n",
       "9     Absent\n",
       "10      Pass\n",
       "Name: result, dtype: object"
      ]
     },
     "execution_count": 8,
     "metadata": {},
     "output_type": "execute_result"
    }
   ],
   "source": [
    "data['result']"
   ]
  },
  {
   "cell_type": "code",
   "execution_count": 9,
   "id": "336a6139-aa0a-4d02-a466-6e418cc69c17",
   "metadata": {},
   "outputs": [],
   "source": [
    "result_category = data['result']"
   ]
  },
  {
   "cell_type": "code",
   "execution_count": 11,
   "id": "c1114e59-7e32-48f0-ba95-26253c0f9d46",
   "metadata": {},
   "outputs": [],
   "source": [
    "obj = LabelEncoder()\n",
    "result = obj.fit_transform(result_category)"
   ]
  },
  {
   "cell_type": "code",
   "execution_count": 12,
   "id": "b80603da-b61a-4b64-97f3-b6b590d3ef78",
   "metadata": {},
   "outputs": [
    {
     "data": {
      "text/plain": [
       "array([2, 1, 2, 2, 0, 1, 1, 2, 2, 0, 2])"
      ]
     },
     "execution_count": 12,
     "metadata": {},
     "output_type": "execute_result"
    }
   ],
   "source": [
    "result"
   ]
  },
  {
   "cell_type": "markdown",
   "id": "be325740-aef9-4989-85a8-b8239a3cea07",
   "metadata": {},
   "source": [
    "# One Hot Encoding"
   ]
  },
  {
   "cell_type": "code",
   "execution_count": 14,
   "id": "5ed68f6d-bba7-471e-8867-31562d25decf",
   "metadata": {},
   "outputs": [],
   "source": [
    "from sklearn.preprocessing import LabelBinarizer"
   ]
  },
  {
   "cell_type": "code",
   "execution_count": 16,
   "id": "b825d118-92d7-4e9a-8705-81dfa76959df",
   "metadata": {},
   "outputs": [
    {
     "data": {
      "text/plain": [
       "array([[0, 0, 1],\n",
       "       [0, 1, 0],\n",
       "       [0, 0, 1],\n",
       "       [0, 0, 1],\n",
       "       [1, 0, 0],\n",
       "       [0, 1, 0],\n",
       "       [0, 1, 0],\n",
       "       [0, 0, 1],\n",
       "       [0, 0, 1],\n",
       "       [1, 0, 0],\n",
       "       [0, 0, 1]])"
      ]
     },
     "execution_count": 16,
     "metadata": {},
     "output_type": "execute_result"
    }
   ],
   "source": [
    "obj = LabelBinarizer()\n",
    "result = obj.fit_transform(result_category)\n",
    "result"
   ]
  },
  {
   "cell_type": "code",
   "execution_count": 17,
   "id": "c22851a2-4899-4a2f-b49e-c8fc2246cb18",
   "metadata": {},
   "outputs": [
    {
     "data": {
      "text/plain": [
       "array(['Absent', 'Fail', 'Pass'], dtype='<U6')"
      ]
     },
     "execution_count": 17,
     "metadata": {},
     "output_type": "execute_result"
    }
   ],
   "source": [
    "obj.classes_"
   ]
  },
  {
   "cell_type": "code",
   "execution_count": null,
   "id": "49a43a36-0456-4d1e-81d4-01f8115a35d5",
   "metadata": {},
   "outputs": [],
   "source": []
  }
 ],
 "metadata": {
  "kernelspec": {
   "display_name": "Python 3 (ipykernel)",
   "language": "python",
   "name": "python3"
  },
  "language_info": {
   "codemirror_mode": {
    "name": "ipython",
    "version": 3
   },
   "file_extension": ".py",
   "mimetype": "text/x-python",
   "name": "python",
   "nbconvert_exporter": "python",
   "pygments_lexer": "ipython3",
   "version": "3.12.6"
  }
 },
 "nbformat": 4,
 "nbformat_minor": 5
}
